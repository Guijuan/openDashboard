{
 "cells": [
  {
   "cell_type": "code",
   "execution_count": 1,
   "metadata": {
    "collapsed": true,
    "ExecuteTime": {
     "end_time": "2023-12-07T12:10:42.222217600Z",
     "start_time": "2023-12-07T12:10:36.953366200Z"
    }
   },
   "outputs": [
    {
     "data": {
      "text/plain": "      location  iso_code        date  total_cases  total_deaths  new_cases  \\\n0       Africa  OWID_AFR  2022-05-01         27.0           2.0        0.0   \n1       Africa  OWID_AFR  2022-05-02         27.0           2.0        0.0   \n2       Africa  OWID_AFR  2022-05-03         27.0           2.0        0.0   \n3       Africa  OWID_AFR  2022-05-04         27.0           2.0        0.0   \n4       Africa  OWID_AFR  2022-05-05         27.0           2.0        0.0   \n...        ...       ...         ...          ...           ...        ...   \n53755    World  OWID_WRL  2023-11-13      91956.0         168.0        7.0   \n53756    World  OWID_WRL  2023-11-14      91959.0         168.0        3.0   \n53757    World  OWID_WRL  2023-11-15      91959.0         168.0        0.0   \n53758    World  OWID_WRL  2023-11-16      91961.0         168.0        2.0   \n53759    World  OWID_WRL  2023-11-17      91973.0         168.0       12.0   \n\n       new_deaths  new_cases_smoothed  new_deaths_smoothed  \\\n0             0.0                0.29                  0.0   \n1             0.0                0.29                  0.0   \n2             0.0                0.29                  0.0   \n3             0.0                0.29                  0.0   \n4             0.0                0.29                  0.0   \n...           ...                 ...                  ...   \n53755         0.0               19.00                  0.0   \n53756         0.0                2.00                  0.0   \n53757         0.0                2.00                  0.0   \n53758         0.0                1.71                  0.0   \n53759         0.0                3.43                  0.0   \n\n       new_cases_per_million  total_cases_per_million  \\\n0                      0.000                    0.019   \n1                      0.000                    0.019   \n2                      0.000                    0.019   \n3                      0.000                    0.019   \n4                      0.000                    0.019   \n...                      ...                      ...   \n53755                  0.001                   11.530   \n53756                  0.000                   11.531   \n53757                  0.000                   11.531   \n53758                  0.000                   11.531   \n53759                  0.002                   11.533   \n\n       new_cases_smoothed_per_million  new_deaths_per_million  \\\n0                               0.000                     0.0   \n1                               0.000                     0.0   \n2                               0.000                     0.0   \n3                               0.000                     0.0   \n4                               0.000                     0.0   \n...                               ...                     ...   \n53755                           0.002                     0.0   \n53756                           0.000                     0.0   \n53757                           0.000                     0.0   \n53758                           0.000                     0.0   \n53759                           0.000                     0.0   \n\n       total_deaths_per_million  new_deaths_smoothed_per_million  \n0                       0.00140                              0.0  \n1                       0.00140                              0.0  \n2                       0.00140                              0.0  \n3                       0.00140                              0.0  \n4                       0.00140                              0.0  \n...                         ...                              ...  \n53755                   0.02107                              0.0  \n53756                   0.02107                              0.0  \n53757                   0.02107                              0.0  \n53758                   0.02107                              0.0  \n53759                   0.02107                              0.0  \n\n[53760 rows x 15 columns]",
      "text/html": "<div>\n<style scoped>\n    .dataframe tbody tr th:only-of-type {\n        vertical-align: middle;\n    }\n\n    .dataframe tbody tr th {\n        vertical-align: top;\n    }\n\n    .dataframe thead th {\n        text-align: right;\n    }\n</style>\n<table border=\"1\" class=\"dataframe\">\n  <thead>\n    <tr style=\"text-align: right;\">\n      <th></th>\n      <th>location</th>\n      <th>iso_code</th>\n      <th>date</th>\n      <th>total_cases</th>\n      <th>total_deaths</th>\n      <th>new_cases</th>\n      <th>new_deaths</th>\n      <th>new_cases_smoothed</th>\n      <th>new_deaths_smoothed</th>\n      <th>new_cases_per_million</th>\n      <th>total_cases_per_million</th>\n      <th>new_cases_smoothed_per_million</th>\n      <th>new_deaths_per_million</th>\n      <th>total_deaths_per_million</th>\n      <th>new_deaths_smoothed_per_million</th>\n    </tr>\n  </thead>\n  <tbody>\n    <tr>\n      <th>0</th>\n      <td>Africa</td>\n      <td>OWID_AFR</td>\n      <td>2022-05-01</td>\n      <td>27.0</td>\n      <td>2.0</td>\n      <td>0.0</td>\n      <td>0.0</td>\n      <td>0.29</td>\n      <td>0.0</td>\n      <td>0.000</td>\n      <td>0.019</td>\n      <td>0.000</td>\n      <td>0.0</td>\n      <td>0.00140</td>\n      <td>0.0</td>\n    </tr>\n    <tr>\n      <th>1</th>\n      <td>Africa</td>\n      <td>OWID_AFR</td>\n      <td>2022-05-02</td>\n      <td>27.0</td>\n      <td>2.0</td>\n      <td>0.0</td>\n      <td>0.0</td>\n      <td>0.29</td>\n      <td>0.0</td>\n      <td>0.000</td>\n      <td>0.019</td>\n      <td>0.000</td>\n      <td>0.0</td>\n      <td>0.00140</td>\n      <td>0.0</td>\n    </tr>\n    <tr>\n      <th>2</th>\n      <td>Africa</td>\n      <td>OWID_AFR</td>\n      <td>2022-05-03</td>\n      <td>27.0</td>\n      <td>2.0</td>\n      <td>0.0</td>\n      <td>0.0</td>\n      <td>0.29</td>\n      <td>0.0</td>\n      <td>0.000</td>\n      <td>0.019</td>\n      <td>0.000</td>\n      <td>0.0</td>\n      <td>0.00140</td>\n      <td>0.0</td>\n    </tr>\n    <tr>\n      <th>3</th>\n      <td>Africa</td>\n      <td>OWID_AFR</td>\n      <td>2022-05-04</td>\n      <td>27.0</td>\n      <td>2.0</td>\n      <td>0.0</td>\n      <td>0.0</td>\n      <td>0.29</td>\n      <td>0.0</td>\n      <td>0.000</td>\n      <td>0.019</td>\n      <td>0.000</td>\n      <td>0.0</td>\n      <td>0.00140</td>\n      <td>0.0</td>\n    </tr>\n    <tr>\n      <th>4</th>\n      <td>Africa</td>\n      <td>OWID_AFR</td>\n      <td>2022-05-05</td>\n      <td>27.0</td>\n      <td>2.0</td>\n      <td>0.0</td>\n      <td>0.0</td>\n      <td>0.29</td>\n      <td>0.0</td>\n      <td>0.000</td>\n      <td>0.019</td>\n      <td>0.000</td>\n      <td>0.0</td>\n      <td>0.00140</td>\n      <td>0.0</td>\n    </tr>\n    <tr>\n      <th>...</th>\n      <td>...</td>\n      <td>...</td>\n      <td>...</td>\n      <td>...</td>\n      <td>...</td>\n      <td>...</td>\n      <td>...</td>\n      <td>...</td>\n      <td>...</td>\n      <td>...</td>\n      <td>...</td>\n      <td>...</td>\n      <td>...</td>\n      <td>...</td>\n      <td>...</td>\n    </tr>\n    <tr>\n      <th>53755</th>\n      <td>World</td>\n      <td>OWID_WRL</td>\n      <td>2023-11-13</td>\n      <td>91956.0</td>\n      <td>168.0</td>\n      <td>7.0</td>\n      <td>0.0</td>\n      <td>19.00</td>\n      <td>0.0</td>\n      <td>0.001</td>\n      <td>11.530</td>\n      <td>0.002</td>\n      <td>0.0</td>\n      <td>0.02107</td>\n      <td>0.0</td>\n    </tr>\n    <tr>\n      <th>53756</th>\n      <td>World</td>\n      <td>OWID_WRL</td>\n      <td>2023-11-14</td>\n      <td>91959.0</td>\n      <td>168.0</td>\n      <td>3.0</td>\n      <td>0.0</td>\n      <td>2.00</td>\n      <td>0.0</td>\n      <td>0.000</td>\n      <td>11.531</td>\n      <td>0.000</td>\n      <td>0.0</td>\n      <td>0.02107</td>\n      <td>0.0</td>\n    </tr>\n    <tr>\n      <th>53757</th>\n      <td>World</td>\n      <td>OWID_WRL</td>\n      <td>2023-11-15</td>\n      <td>91959.0</td>\n      <td>168.0</td>\n      <td>0.0</td>\n      <td>0.0</td>\n      <td>2.00</td>\n      <td>0.0</td>\n      <td>0.000</td>\n      <td>11.531</td>\n      <td>0.000</td>\n      <td>0.0</td>\n      <td>0.02107</td>\n      <td>0.0</td>\n    </tr>\n    <tr>\n      <th>53758</th>\n      <td>World</td>\n      <td>OWID_WRL</td>\n      <td>2023-11-16</td>\n      <td>91961.0</td>\n      <td>168.0</td>\n      <td>2.0</td>\n      <td>0.0</td>\n      <td>1.71</td>\n      <td>0.0</td>\n      <td>0.000</td>\n      <td>11.531</td>\n      <td>0.000</td>\n      <td>0.0</td>\n      <td>0.02107</td>\n      <td>0.0</td>\n    </tr>\n    <tr>\n      <th>53759</th>\n      <td>World</td>\n      <td>OWID_WRL</td>\n      <td>2023-11-17</td>\n      <td>91973.0</td>\n      <td>168.0</td>\n      <td>12.0</td>\n      <td>0.0</td>\n      <td>3.43</td>\n      <td>0.0</td>\n      <td>0.002</td>\n      <td>11.533</td>\n      <td>0.000</td>\n      <td>0.0</td>\n      <td>0.02107</td>\n      <td>0.0</td>\n    </tr>\n  </tbody>\n</table>\n<p>53760 rows × 15 columns</p>\n</div>"
     },
     "execution_count": 1,
     "metadata": {},
     "output_type": "execute_result"
    }
   ],
   "source": [
    "import pandas\n",
    "data = pandas.read_csv(filepath_or_buffer='./owid-monkeypox-data.csv')\n",
    "data"
   ]
  },
  {
   "cell_type": "code",
   "execution_count": 2,
   "outputs": [
    {
     "data": {
      "text/plain": "['location',\n 'iso_code',\n 'date',\n 'total_cases',\n 'total_deaths',\n 'new_cases',\n 'new_deaths',\n 'new_cases_smoothed',\n 'new_deaths_smoothed',\n 'new_cases_per_million',\n 'total_cases_per_million',\n 'new_cases_smoothed_per_million',\n 'new_deaths_per_million',\n 'total_deaths_per_million',\n 'new_deaths_smoothed_per_million']"
     },
     "execution_count": 2,
     "metadata": {},
     "output_type": "execute_result"
    }
   ],
   "source": [
    "colums = data.columns.tolist()\n",
    "colums"
   ],
   "metadata": {
    "collapsed": false,
    "ExecuteTime": {
     "end_time": "2023-12-07T12:20:09.246771100Z",
     "start_time": "2023-12-07T12:20:09.242773800Z"
    }
   }
  },
  {
   "cell_type": "code",
   "execution_count": 4,
   "outputs": [
    {
     "data": {
      "text/plain": "'{\"name\": \"owid-monkeypox-data\", \"dimensions\": [{\"index\": 0, \"name\": \"location\", \"type\": \"quantitative\", \"isSelected\": false, \"checked\": false, \"color\": \"#202020\", \"description\": \"\"}, {\"index\": 1, \"name\": \"iso_code\", \"type\": \"quantitative\", \"isSelected\": false, \"checked\": false, \"color\": \"#202020\", \"description\": \"\"}, {\"index\": 2, \"name\": \"date\", \"type\": \"quantitative\", \"isSelected\": false, \"checked\": false, \"color\": \"#202020\", \"description\": \"\"}, {\"index\": 3, \"name\": \"total_cases\", \"type\": \"quantitative\", \"isSelected\": false, \"checked\": false, \"color\": \"#202020\", \"description\": \"\"}, {\"index\": 4, \"name\": \"total_deaths\", \"type\": \"quantitative\", \"isSelected\": false, \"checked\": false, \"color\": \"#202020\", \"description\": \"\"}, {\"index\": 5, \"name\": \"new_cases\", \"type\": \"quantitative\", \"isSelected\": false, \"checked\": false, \"color\": \"#202020\", \"description\": \"\"}, {\"index\": 6, \"name\": \"new_deaths\", \"type\": \"quantitative\", \"isSelected\": false, \"checked\": false, \"color\": \"#202020\", \"description\": \"\"}, {\"index\": 7, \"name\": \"new_cases_smoothed\", \"type\": \"quantitative\", \"isSelected\": false, \"checked\": false, \"color\": \"#202020\", \"description\": \"\"}, {\"index\": 8, \"name\": \"new_deaths_smoothed\", \"type\": \"quantitative\", \"isSelected\": false, \"checked\": false, \"color\": \"#202020\", \"description\": \"\"}, {\"index\": 9, \"name\": \"new_cases_per_million\", \"type\": \"quantitative\", \"isSelected\": false, \"checked\": false, \"color\": \"#202020\", \"description\": \"\"}, {\"index\": 10, \"name\": \"total_cases_per_million\", \"type\": \"quantitative\", \"isSelected\": false, \"checked\": false, \"color\": \"#202020\", \"description\": \"\"}, {\"index\": 11, \"name\": \"new_cases_smoothed_per_million\", \"type\": \"quantitative\", \"isSelected\": false, \"checked\": false, \"color\": \"#202020\", \"description\": \"\"}, {\"index\": 12, \"name\": \"new_deaths_per_million\", \"type\": \"quantitative\", \"isSelected\": false, \"checked\": false, \"color\": \"#202020\", \"description\": \"\"}, {\"index\": 13, \"name\": \"total_deaths_per_million\", \"type\": \"quantitative\", \"isSelected\": false, \"checked\": false, \"color\": \"#202020\", \"description\": \"\"}, {\"index\": 14, \"name\": \"new_deaths_smoothed_per_million\", \"type\": \"quantitative\", \"isSelected\": false, \"checked\": false, \"color\": \"#202020\", \"description\": \"\"}], \"length\": 53760, \"description\": {\"weblink\": \"https://covid19.who.int/\", \"collector\": \"miss wang\", \"lastUpate\": \"2023-11-23 15:00\"}}'"
     },
     "execution_count": 4,
     "metadata": {},
     "output_type": "execute_result"
    }
   ],
   "source": [
    "## 处理字段\n",
    "import json\n",
    "data_info ={'name':'owid-monkeypox-data', \"dimensions\":[], 'length':len(data), \"description\":{\"weblink\": \"https://covid19.who.int/\",\"collector\": \"miss wang\",\"lastUpate\": \"2023-11-23 15:00\"}}\n",
    "index = 0\n",
    "for item in colums:\n",
    "    data_info['dimensions'].append({'index':index, \"name\": item, \"type\": \"quantitative\", \"isSelected\": False, \"checked\": False,\"color\": \"#202020\",\"description\": \"\"})\n",
    "    index += 1\n",
    "str = json.dumps(data_info)\n",
    "str"
   ],
   "metadata": {
    "collapsed": false,
    "ExecuteTime": {
     "end_time": "2023-12-07T12:24:06.813479400Z",
     "start_time": "2023-12-07T12:24:06.796485900Z"
    }
   }
  },
  {
   "cell_type": "code",
   "execution_count": 9,
   "outputs": [],
   "source": [
    "db_data = []\n",
    "for index, row in data.iterrows():\n",
    "    on_record = {}\n",
    "    for key in colums:\n",
    "        on_record[key] = row[key]\n",
    "    db_data.append(on_record)"
   ],
   "metadata": {
    "collapsed": false,
    "ExecuteTime": {
     "end_time": "2023-12-07T12:36:46.465113700Z",
     "start_time": "2023-12-07T12:36:38.438553700Z"
    }
   }
  },
  {
   "cell_type": "code",
   "execution_count": 12,
   "outputs": [],
   "source": [
    "with open('./moky.json', 'w', encoding='utf8') as fp:\n",
    "    json.dump(db_data, fp, indent=2, ensure_ascii=False)"
   ],
   "metadata": {
    "collapsed": false,
    "ExecuteTime": {
     "end_time": "2023-12-07T12:54:34.566201500Z",
     "start_time": "2023-12-07T12:54:32.166120100Z"
    }
   }
  },
  {
   "cell_type": "code",
   "execution_count": 13,
   "outputs": [],
   "source": [
    "with open('./db.json', 'r', encoding='utf8') as f:\n",
    "    db_all = json.load(f)\n",
    "db_all['owid monkeypox data'] = db_data\n",
    "with open('./db1.json', 'w', encoding='utf8') as ff:\n",
    "    json.dump(db_all, ff, indent=2, ensure_ascii=False)"
   ],
   "metadata": {
    "collapsed": false,
    "ExecuteTime": {
     "end_time": "2023-12-07T12:58:50.769235700Z",
     "start_time": "2023-12-07T12:58:47.598661Z"
    }
   }
  },
  {
   "cell_type": "code",
   "execution_count": null,
   "outputs": [],
   "source": [],
   "metadata": {
    "collapsed": false
   }
  }
 ],
 "metadata": {
  "kernelspec": {
   "display_name": "Python 3",
   "language": "python",
   "name": "python3"
  },
  "language_info": {
   "codemirror_mode": {
    "name": "ipython",
    "version": 2
   },
   "file_extension": ".py",
   "mimetype": "text/x-python",
   "name": "python",
   "nbconvert_exporter": "python",
   "pygments_lexer": "ipython2",
   "version": "2.7.6"
  }
 },
 "nbformat": 4,
 "nbformat_minor": 0
}
